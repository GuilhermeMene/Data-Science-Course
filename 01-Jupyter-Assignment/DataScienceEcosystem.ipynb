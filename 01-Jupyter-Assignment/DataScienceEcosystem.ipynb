{
 "cells": [
  {
   "cell_type": "markdown",
   "id": "b7aea597-fbb1-483b-b88d-0a70b1c258af",
   "metadata": {},
   "source": [
    "#### Exercise 02: Create markdown cell with title of the notebook"
   ]
  },
  {
   "cell_type": "markdown",
   "id": "b2673ecc-069b-4fc7-bdad-667a97a990f8",
   "metadata": {},
   "source": [
    "# Data Science Tools and Ecosystem"
   ]
  },
  {
   "cell_type": "markdown",
   "id": "54d0f399-c46f-4d64-8115-824e52e633e1",
   "metadata": {},
   "source": [
    "#### Exercise 03: Create a markdown cell for an introduction"
   ]
  },
  {
   "cell_type": "markdown",
   "id": "d108f7e5-be7b-48ee-aee0-94c6136c4f0e",
   "metadata": {},
   "source": [
    "In this notebook, Data Science Tools and Ecosystem are summarized."
   ]
  },
  {
   "cell_type": "markdown",
   "id": "5aab05d2-ee7b-492b-bd7c-1972e5c73cb7",
   "metadata": {},
   "source": [
    "**Objectives:**\n",
    "- List popular languages for Data Science\n",
    "- List popular libraries for Data Science\n",
    "- List Data Science Tools\n",
    "- Evaluating arithmetic examples using Python syntax"
   ]
  },
  {
   "cell_type": "markdown",
   "id": "46091d31-b5e1-4f79-9a70-efbb0c04a456",
   "metadata": {},
   "source": [
    "#### Exercise 04: Create a markdown cell to list data science languages"
   ]
  },
  {
   "cell_type": "markdown",
   "id": "3aaf5f78-1d6f-4b42-b4b5-580826b15dce",
   "metadata": {},
   "source": [
    "Some of the popular languages that Data Scientists use are: \n",
    "\n",
    "1. Python\n",
    "2. R\n",
    "3. SQL\n",
    "4. Scala\n",
    "5. Java\n",
    "6. C++\n",
    "7. Julia"
   ]
  },
  {
   "cell_type": "markdown",
   "id": "8d384679-7ed6-49b5-99cd-13e6c7a434a6",
   "metadata": {},
   "source": [
    "#### Exercise 05: Create a markdown cell to list data science libraries"
   ]
  },
  {
   "cell_type": "markdown",
   "id": "63d946aa-8b36-4941-9c32-8343dbb08cc3",
   "metadata": {},
   "source": [
    "Some of the commonly used libraries used by Data Scientists include:\n",
    "\n",
    "1. Pandas\n",
    "2. NumPy\n",
    "3. Matplotlib\n",
    "4. Seaborn\n",
    "5. Scikit-learn"
   ]
  },
  {
   "cell_type": "markdown",
   "id": "c0883e3f-f4f2-40a4-b8a8-f4e9e9bbc7a7",
   "metadata": {},
   "source": [
    "#### Exercise 06: Create a markdown cell with a table of Data Science tools"
   ]
  },
  {
   "cell_type": "markdown",
   "id": "09838be9-d6ea-4c08-af6f-bfbb84e37aa6",
   "metadata": {},
   "source": [
    "| Data Science Tools |\n",
    "| ------------------ |\n",
    "| Jupyter Lab        |\n",
    "| Visual Studio Code |\n",
    "| R Studio           |"
   ]
  },
  {
   "cell_type": "markdown",
   "id": "feeaa9f7-a8b1-4127-b319-f36bbc7635be",
   "metadata": {},
   "source": [
    "#### Exercise 07: Create a markdown cell introducing arithmetic expression examples"
   ]
  },
  {
   "cell_type": "markdown",
   "id": "dd217057-d6ea-4873-a9f7-bb25140c6adc",
   "metadata": {},
   "source": [
    "### Below are a few examples of evaluating arithmetic expressions in Python."
   ]
  },
  {
   "cell_type": "markdown",
   "id": "a23c23a9-ad94-463c-9c09-225e7a9f2ab2",
   "metadata": {},
   "source": [
    "#### Exercise 08: Create a code cell to multiply and add numbers"
   ]
  },
  {
   "cell_type": "code",
   "execution_count": 6,
   "id": "711e81a8-34fb-40c9-92c5-183a43bfa5fe",
   "metadata": {},
   "outputs": [
    {
     "data": {
      "text/plain": [
       "17"
      ]
     },
     "execution_count": 6,
     "metadata": {},
     "output_type": "execute_result"
    }
   ],
   "source": [
    "# This is a simple arithmetic expression to multiply then add integers.\n",
    "\n",
    "(3*4)+5"
   ]
  },
  {
   "cell_type": "markdown",
   "id": "48c42055-8fde-4ee6-b92d-a2c7ce6290c5",
   "metadata": {},
   "source": [
    "#### Exercise 09: Create a code cell to convert minutes to hours"
   ]
  },
  {
   "cell_type": "code",
   "execution_count": 8,
   "id": "8e02b0d8-53a4-4577-8ef8-f58ddd56b573",
   "metadata": {},
   "outputs": [
    {
     "data": {
      "text/plain": [
       "3.3333333333333335"
      ]
     },
     "execution_count": 8,
     "metadata": {},
     "output_type": "execute_result"
    }
   ],
   "source": [
    "# This will convert 200 minutes to hours by dividing by 60. \n",
    "\n",
    "200 / 60"
   ]
  },
  {
   "cell_type": "markdown",
   "id": "c24e16ea-a598-44b8-a82f-9ba7c6135f05",
   "metadata": {},
   "source": [
    "#### Exercise 10: Insert a markdown cell to list Objectives "
   ]
  },
  {
   "cell_type": "markdown",
   "id": "2cec28f8-1904-4a94-94c2-fe02e49ba66b",
   "metadata": {},
   "source": [
    "#### Exercise 11: Create a markdown cell to indicate the Author's name"
   ]
  },
  {
   "cell_type": "markdown",
   "id": "82c6855d-bb6c-459a-9397-700e61bea8f8",
   "metadata": {},
   "source": [
    "## Author\n",
    "Guilherme Mene Ale Primo"
   ]
  },
  {
   "cell_type": "code",
   "execution_count": null,
   "id": "a14a4079-23da-4e47-ad07-a4de69604f31",
   "metadata": {},
   "outputs": [],
   "source": []
  }
 ],
 "metadata": {
  "kernelspec": {
   "display_name": "Python 3 (ipykernel)",
   "language": "python",
   "name": "python3"
  },
  "language_info": {
   "codemirror_mode": {
    "name": "ipython",
    "version": 3
   },
   "file_extension": ".py",
   "mimetype": "text/x-python",
   "name": "python",
   "nbconvert_exporter": "python",
   "pygments_lexer": "ipython3",
   "version": "3.8.10"
  }
 },
 "nbformat": 4,
 "nbformat_minor": 5
}
